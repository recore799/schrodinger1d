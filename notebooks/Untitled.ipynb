{
 "cells": [
  {
   "cell_type": "markdown",
   "id": "33b483e7-68e2-45ec-a634-1efb415960b3",
   "metadata": {},
   "source": [
    "# Test del Solver Hartree-Fock (RHF) con Base Mínima\n",
    "\n",
    "Este notebook sirve como una prueba de validación para la implementación del método Restricted Hartree-Fock (`scf_rhf`).\n",
    "\n",
    "Se realizarán dos cálculos:\n",
    "1.  **Molécula de Dihidrógeno (H₂):** Un sistema simétrico simple.\n",
    "2.  **Catión Helio-Hidruro (HeH⁺):** Un sistema asimétrico de dos electrones.\n",
    "\n",
    "Ambos cálculos utilizan una base mínima STO-3G construida a partir de los exponentes orbitales optimizados (Zeta)."
   ]
  },
  {
   "cell_type": "code",
   "execution_count": 14,
   "id": "b0256dad-ac99-4beb-9564-4f0f61e84bad",
   "metadata": {},
   "outputs": [
    {
     "name": "stdout",
     "output_type": "stream",
     "text": [
      "✅ Módulos importados correctamente.\n"
     ]
    }
   ],
   "source": [
    "import numpy as np\n",
    "from src.hf.rhf_s_old import scf_rhf\n",
    "from src.hf.sto3g_basis import build_sto3g_basis\n",
    "\n",
    "print(\"✅ Módulos importados correctamente.\")\n"
   ]
  },
  {
   "cell_type": "code",
   "execution_count": 15,
   "id": "b8303a5c-5a46-4acf-b0b4-27c9a42d0158",
   "metadata": {},
   "outputs": [],
   "source": [
    "def build_sto3g_basis(zeta: float) -> list[tuple[float, float]]:\n",
    "    \"\"\"Build STO-3G basis for a given Slater exponent (zeta)\"\"\"\n",
    "    # Fundamental 1s STO-3G parameters for Zeta=1.0\n",
    "    d = [0.444635, 0.535328, 0.154329]\n",
    "    alpha = [0.109818, 0.405771, 2.227660]    \n",
    "\n",
    "    basis = []\n",
    "    for d, alpha in zip(d, alpha):\n",
    "        alpha_scaled = alpha * (zeta ** 2)\n",
    "        norm_factor = (2.0 * alpha_scaled / np.pi) ** 0.75\n",
    "        d_scaled = d * norm_factor\n",
    "        basis.append((alpha_scaled, d_scaled))\n",
    "    \n",
    "    return basis"
   ]
  },
  {
   "cell_type": "markdown",
   "id": "a7eb914d-8516-40c6-88c2-1c1c7a292594",
   "metadata": {},
   "source": [
    "## 1. Molécula de H₂ con R = 1.4 au\n",
    "\n",
    "Primero, probamos con la molécula de hidrógeno a su distancia de enlace de equilibrio aproximada. Usamos una base STO-3G con un exponente optimizado ($\\zeta = 1.24$) para el orbital 1s del hidrógeno."
   ]
  },
  {
   "cell_type": "code",
   "execution_count": 16,
   "id": "df0e756b-96d2-4843-88de-fde1e14a1cba",
   "metadata": {},
   "outputs": [
    {
     "name": "stdout",
     "output_type": "stream",
     "text": [
      "Iniciando cálculo para H₂...\n",
      "[RHF] nbf=2, n_elec=2, n_occ=1, R=1.4000 bohr\n",
      "\n",
      "============================================================\n",
      "FINAL SCF RESULTS – H₂\n",
      "============================================================\n",
      "Electronic energy:          -1.83100098 Ha\n",
      "Nuclear repulsion:           0.71428571 Ha\n",
      "Total energy:               -1.11671527 Ha\n",
      "SCF iterations:                       3\n",
      "Converged:                         True\n"
     ]
    }
   ],
   "source": [
    "# --- Parámetros para H₂ ---\n",
    "print(\"Iniciando cálculo para H₂...\")\n",
    "\n",
    "# Construimos la base STO-3G para un átomo de Hidrógeno\n",
    "sto3g_h = build_sto3g_basis(zeta=1.24)\n",
    "\n",
    "# La molécula H₂ tiene dos de estas bases\n",
    "primitives_h2 = [sto3g_h, sto3g_h]\n",
    "\n",
    "# Posiciones de los núcleos en el eje x\n",
    "pos_h2 = np.array([[0.0, 0.0, 0.0], [1.4, 0.0, 0.0]])\n",
    "\n",
    "# Cargas nucleares (ambos son Z=1)\n",
    "Z_h2 = (1.0, 1.0)\n",
    "\n",
    "# --- Ejecución del cálculo SCF ---\n",
    "# La opción verbose=3 mostrará todos los detalles del ciclo iterativo\n",
    "hartreefock = scf_rhf(\n",
    "    primitives=primitives_h2,\n",
    "    pos=pos_h2,\n",
    "    R=1.4,\n",
    "    Z=Z_h2,\n",
    "    n_elec=2,\n",
    "    R_nuc=pos_h2,\n",
    "    Z_nuc=Z_h2,\n",
    "    molecule=\"H₂\",\n",
    "    verbose=1\n",
    ")"
   ]
  },
  {
   "cell_type": "code",
   "execution_count": 17,
   "id": "f18e9b98-491b-49f7-812f-5bed70f3710d",
   "metadata": {},
   "outputs": [
    {
     "name": "stdout",
     "output_type": "stream",
     "text": [
      "\n",
      "Iniciando cálculo para HeH⁺...\n",
      "[RHF] nbf=2, n_elec=2, n_occ=1, R=1.4632 bohr\n",
      "\n",
      "============================================================\n",
      "FINAL SCF RESULTS – HeH⁺\n",
      "============================================================\n",
      "Electronic energy:          -4.22752930 Ha\n",
      "Nuclear repulsion:           1.36686714 Ha\n",
      "Total energy:               -2.86066216 Ha\n",
      "SCF iterations:                       7\n",
      "Converged:                         True\n"
     ]
    }
   ],
   "source": [
    "# --- Parámetros para HeH⁺ ---\n",
    "print(\"\\nIniciando cálculo para HeH⁺...\")\n",
    "\n",
    "# Construimos la base STO-3G para Helio\n",
    "sto3g_he = build_sto3g_basis(zeta=2.0925)\n",
    "\n",
    "# La base para Hidrógeno es la misma que antes\n",
    "sto3g_h = build_sto3g_basis(zeta=1.24)\n",
    "\n",
    "# La molécula HeH⁺ tiene una base de cada tipo\n",
    "primitives_heh = [sto3g_he, sto3g_h]\n",
    "\n",
    "# Posiciones de los núcleos\n",
    "pos_heh = np.array([[0.0, 0.0, 0.0], [1.4632, 0.0, 0.0]])\n",
    "\n",
    "# Cargas nucleares (Z=2 para He, Z=1 para H)\n",
    "Z_heh = (2.0, 1.0)\n",
    "\n",
    "# --- Ejecución del cálculo SCF ---\n",
    "hartreefock = scf_rhf(\n",
    "    primitives=primitives_heh,\n",
    "    pos=pos_heh,\n",
    "    R=1.4632,\n",
    "    Z=Z_heh,\n",
    "    n_elec=2,\n",
    "    R_nuc=pos_heh,\n",
    "    Z_nuc=Z_heh,\n",
    "    molecule=\"HeH⁺\",\n",
    "    verbose=1\n",
    ")"
   ]
  },
  {
   "cell_type": "code",
   "execution_count": null,
   "id": "89f81ec4-fecd-42da-8605-543766e31947",
   "metadata": {},
   "outputs": [],
   "source": []
  }
 ],
 "metadata": {
  "kernelspec": {
   "display_name": "Python 3 (ipykernel)",
   "language": "python",
   "name": "python3"
  },
  "language_info": {
   "codemirror_mode": {
    "name": "ipython",
    "version": 3
   },
   "file_extension": ".py",
   "mimetype": "text/x-python",
   "name": "python",
   "nbconvert_exporter": "python",
   "pygments_lexer": "ipython3",
   "version": "3.13.3"
  }
 },
 "nbformat": 4,
 "nbformat_minor": 5
}
